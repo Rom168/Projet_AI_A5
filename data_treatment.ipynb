{
  "cells": [
    {
      "metadata": {
        "id": "c722c9c1b66716c9"
      },
      "cell_type": "markdown",
      "source": [
        "Traitement des données pour vérifier s'il en manque\n",
        "\n"
      ],
      "id": "c722c9c1b66716c9"
    },
    {
      "cell_type": "code",
      "source": [
        "!pip install housing"
      ],
      "metadata": {
        "colab": {
          "base_uri": "https://localhost:8080/"
        },
        "id": "7Nh7vH4mg5gf",
        "outputId": "34b7ffa4-f7a4-4ce3-ef95-846eb3ddc229"
      },
      "id": "7Nh7vH4mg5gf",
      "execution_count": 2,
      "outputs": [
        {
          "output_type": "stream",
          "name": "stdout",
          "text": [
            "Collecting housing\n",
            "  Downloading housing-0.3-py3-none-any.whl.metadata (1.3 kB)\n",
            "Downloading housing-0.3-py3-none-any.whl (7.5 kB)\n",
            "Installing collected packages: housing\n",
            "Successfully installed housing-0.3\n"
          ]
        }
      ]
    },
    {
      "metadata": {
        "id": "18df02f844e9995"
      },
      "cell_type": "markdown",
      "source": [
        "Importation des librairies\n"
      ],
      "id": "18df02f844e9995"
    },
    {
      "cell_type": "code",
      "id": "initial_id",
      "metadata": {
        "collapsed": true,
        "ExecuteTime": {
          "end_time": "2025-01-21T15:36:57.892674Z",
          "start_time": "2025-01-21T15:36:57.887597Z"
        },
        "id": "initial_id"
      },
      "source": [
        "import housing\n",
        "import numpy as np\n",
        "import pandas as pd\n",
        "import matplotlib.pyplot as plt\n",
        "import seaborn as sns\n",
        "import warnings\n",
        "import tarfile\n",
        "import os\n",
        "import missingno as msno\n",
        "import seaborn as sns\n",
        "import matplotlib.pyplot as plt\n",
        "\n",
        "\n"
      ],
      "outputs": [],
      "execution_count": 15
    },
    {
      "metadata": {
        "id": "88897c435e63acb0"
      },
      "cell_type": "markdown",
      "source": [
        "Extraction du/des fichiers\n"
      ],
      "id": "88897c435e63acb0"
    },
    {
      "metadata": {
        "id": "ba9ac5494a407ffc"
      },
      "cell_type": "code",
      "outputs": [],
      "execution_count": null,
      "source": [],
      "id": "ba9ac5494a407ffc"
    },
    {
      "metadata": {
        "id": "9916a65a660b0aff"
      },
      "cell_type": "markdown",
      "source": [],
      "id": "9916a65a660b0aff"
    },
    {
      "metadata": {
        "ExecuteTime": {
          "end_time": "2025-01-21T16:07:42.971435Z",
          "start_time": "2025-01-21T16:07:42.874387Z"
        },
        "colab": {
          "base_uri": "https://localhost:8080/"
        },
        "id": "b5f0163a5defa2a8",
        "outputId": "84db2836-cffe-4433-e93c-62df0effcedf"
      },
      "cell_type": "code",
      "source": [
        "file_path_general = 'general_data.csv'\n",
        "file_path_employee ='employee_survey_data.csv'\n",
        "file_path_manager = 'manager_survey_data.csv'\n",
        "file_path_in = 'in_time.csv'\n",
        "file_path_out = 'out_time.csv'\n",
        "\n",
        "\n",
        "\n",
        "directory= \"/content/Data/\"\n",
        "\n",
        "# Load the dataset\n",
        "general_data = pd.read_csv(directory + file_path_general)\n",
        "employee_data = pd.read_csv(directory + file_path_employee)\n",
        "manager_data = pd.read_csv(directory + file_path_manager)\n",
        "in_time_data = pd.read_csv(directory + file_path_in)\n",
        "out_time_data = pd.read_csv(directory + file_path_out)\n",
        "\n",
        "print(general_data)\n",
        "\n",
        "\n",
        "#general_data.info()\n",
        "\n",
        "#general_data.describe()\n",
        "\n",
        "#general_data.head()\n"
      ],
      "id": "b5f0163a5defa2a8",
      "outputs": [
        {
          "output_type": "stream",
          "name": "stdout",
          "text": [
            "      Age Attrition     BusinessTravel              Department  \\\n",
            "0      51        No      Travel_Rarely                   Sales   \n",
            "1      31       Yes  Travel_Frequently  Research & Development   \n",
            "2      32        No  Travel_Frequently  Research & Development   \n",
            "3      38        No         Non-Travel  Research & Development   \n",
            "4      32        No      Travel_Rarely  Research & Development   \n",
            "...   ...       ...                ...                     ...   \n",
            "4405   42        No      Travel_Rarely  Research & Development   \n",
            "4406   29        No      Travel_Rarely  Research & Development   \n",
            "4407   25        No      Travel_Rarely  Research & Development   \n",
            "4408   42        No      Travel_Rarely                   Sales   \n",
            "4409   40        No      Travel_Rarely  Research & Development   \n",
            "\n",
            "      DistanceFromHome  Education EducationField  EmployeeCount  EmployeeID  \\\n",
            "0                    6          2  Life Sciences              1           1   \n",
            "1                   10          1  Life Sciences              1           2   \n",
            "2                   17          4          Other              1           3   \n",
            "3                    2          5  Life Sciences              1           4   \n",
            "4                   10          1        Medical              1           5   \n",
            "...                ...        ...            ...            ...         ...   \n",
            "4405                 5          4        Medical              1        4406   \n",
            "4406                 2          4        Medical              1        4407   \n",
            "4407                25          2  Life Sciences              1        4408   \n",
            "4408                18          2        Medical              1        4409   \n",
            "4409                28          3        Medical              1        4410   \n",
            "\n",
            "      Gender  ...  NumCompaniesWorked Over18 PercentSalaryHike  StandardHours  \\\n",
            "0     Female  ...                 1.0      Y                11              8   \n",
            "1     Female  ...                 0.0      Y                23              8   \n",
            "2       Male  ...                 1.0      Y                15              8   \n",
            "3       Male  ...                 3.0      Y                11              8   \n",
            "4       Male  ...                 4.0      Y                12              8   \n",
            "...      ...  ...                 ...    ...               ...            ...   \n",
            "4405  Female  ...                 3.0      Y                17              8   \n",
            "4406    Male  ...                 2.0      Y                15              8   \n",
            "4407    Male  ...                 0.0      Y                20              8   \n",
            "4408    Male  ...                 0.0      Y                14              8   \n",
            "4409    Male  ...                 0.0      Y                12              8   \n",
            "\n",
            "      StockOptionLevel TotalWorkingYears  TrainingTimesLastYear  \\\n",
            "0                    0               1.0                      6   \n",
            "1                    1               6.0                      3   \n",
            "2                    3               5.0                      2   \n",
            "3                    3              13.0                      5   \n",
            "4                    2               9.0                      2   \n",
            "...                ...               ...                    ...   \n",
            "4405                 1              10.0                      5   \n",
            "4406                 0              10.0                      2   \n",
            "4407                 0               5.0                      4   \n",
            "4408                 1              10.0                      2   \n",
            "4409                 0               NaN                      6   \n",
            "\n",
            "      YearsAtCompany  YearsSinceLastPromotion  YearsWithCurrManager  \n",
            "0                  1                        0                     0  \n",
            "1                  5                        1                     4  \n",
            "2                  5                        0                     3  \n",
            "3                  8                        7                     5  \n",
            "4                  6                        0                     4  \n",
            "...              ...                      ...                   ...  \n",
            "4405               3                        0                     2  \n",
            "4406               3                        0                     2  \n",
            "4407               4                        1                     2  \n",
            "4408               9                        7                     8  \n",
            "4409              21                        3                     9  \n",
            "\n",
            "[4410 rows x 24 columns]\n"
          ]
        }
      ],
      "execution_count": 18
    },
    {
      "metadata": {
        "ExecuteTime": {
          "end_time": "2025-01-21T15:37:00.216779Z",
          "start_time": "2025-01-21T15:37:00.208778Z"
        },
        "colab": {
          "base_uri": "https://localhost:8080/",
          "height": 210
        },
        "id": "a43d07b304b49e89",
        "outputId": "becaaa8d-692a-4506-cc1d-4f189878041b"
      },
      "cell_type": "code",
      "source": [
        "general_data[\"BusinessTravel\"].value_counts()"
      ],
      "id": "a43d07b304b49e89",
      "outputs": [
        {
          "output_type": "execute_result",
          "data": {
            "text/plain": [
              "BusinessTravel\n",
              "Travel_Rarely        3129\n",
              "Travel_Frequently     831\n",
              "Non-Travel            450\n",
              "Name: count, dtype: int64"
            ],
            "text/html": [
              "<div>\n",
              "<style scoped>\n",
              "    .dataframe tbody tr th:only-of-type {\n",
              "        vertical-align: middle;\n",
              "    }\n",
              "\n",
              "    .dataframe tbody tr th {\n",
              "        vertical-align: top;\n",
              "    }\n",
              "\n",
              "    .dataframe thead th {\n",
              "        text-align: right;\n",
              "    }\n",
              "</style>\n",
              "<table border=\"1\" class=\"dataframe\">\n",
              "  <thead>\n",
              "    <tr style=\"text-align: right;\">\n",
              "      <th></th>\n",
              "      <th>count</th>\n",
              "    </tr>\n",
              "    <tr>\n",
              "      <th>BusinessTravel</th>\n",
              "      <th></th>\n",
              "    </tr>\n",
              "  </thead>\n",
              "  <tbody>\n",
              "    <tr>\n",
              "      <th>Travel_Rarely</th>\n",
              "      <td>3129</td>\n",
              "    </tr>\n",
              "    <tr>\n",
              "      <th>Travel_Frequently</th>\n",
              "      <td>831</td>\n",
              "    </tr>\n",
              "    <tr>\n",
              "      <th>Non-Travel</th>\n",
              "      <td>450</td>\n",
              "    </tr>\n",
              "  </tbody>\n",
              "</table>\n",
              "</div><br><label><b>dtype:</b> int64</label>"
            ]
          },
          "metadata": {},
          "execution_count": 19
        }
      ],
      "execution_count": 19
    },
    {
      "metadata": {
        "id": "e0771a9f0bbd4f8e"
      },
      "cell_type": "markdown",
      "source": [],
      "id": "e0771a9f0bbd4f8e"
    },
    {
      "metadata": {
        "ExecuteTime": {
          "end_time": "2025-01-21T15:37:02.097050Z",
          "start_time": "2025-01-21T15:37:02.089635Z"
        },
        "colab": {
          "base_uri": "https://localhost:8080/"
        },
        "id": "e8e66e8f96f87e39",
        "outputId": "3a36d6b3-55f3-4d72-811e-e361836bd7c3"
      },
      "cell_type": "code",
      "source": [
        "\n",
        "null_value = general_data.isnull().sum()\n",
        "#+ manager_data.isnull().sum() + employee_data.isnull().sum() + in_time_data.isnull().sum() + out_time_data.isnull().sum()\n",
        "print(null_value)\n",
        "\n"
      ],
      "id": "e8e66e8f96f87e39",
      "outputs": [
        {
          "output_type": "stream",
          "name": "stdout",
          "text": [
            "Age                         0\n",
            "Attrition                   0\n",
            "BusinessTravel              0\n",
            "Department                  0\n",
            "DistanceFromHome            0\n",
            "Education                   0\n",
            "EducationField              0\n",
            "EmployeeCount               0\n",
            "EmployeeID                  0\n",
            "Gender                      0\n",
            "JobLevel                    0\n",
            "JobRole                     0\n",
            "MaritalStatus               0\n",
            "MonthlyIncome               0\n",
            "NumCompaniesWorked         19\n",
            "Over18                      0\n",
            "PercentSalaryHike           0\n",
            "StandardHours               0\n",
            "StockOptionLevel            0\n",
            "TotalWorkingYears           9\n",
            "TrainingTimesLastYear       0\n",
            "YearsAtCompany              0\n",
            "YearsSinceLastPromotion     0\n",
            "YearsWithCurrManager        0\n",
            "dtype: int64\n"
          ]
        }
      ],
      "execution_count": 21
    },
    {
      "metadata": {
        "ExecuteTime": {
          "end_time": "2025-01-21T15:37:27.351212Z",
          "start_time": "2025-01-21T15:37:27.347648Z"
        },
        "id": "24a5aeeb29fb64f7"
      },
      "cell_type": "code",
      "source": [
        "\n",
        "\n"
      ],
      "id": "24a5aeeb29fb64f7",
      "outputs": [],
      "execution_count": null
    },
    {
      "metadata": {
        "ExecuteTime": {
          "end_time": "2025-01-21T15:27:34.103415Z",
          "start_time": "2025-01-21T15:27:34.100415Z"
        },
        "id": "3856fd1e142c4e24"
      },
      "cell_type": "code",
      "source": [],
      "id": "3856fd1e142c4e24",
      "outputs": [],
      "execution_count": null
    }
  ],
  "metadata": {
    "kernelspec": {
      "display_name": "Python 3",
      "language": "python",
      "name": "python3"
    },
    "language_info": {
      "codemirror_mode": {
        "name": "ipython",
        "version": 2
      },
      "file_extension": ".py",
      "mimetype": "text/x-python",
      "name": "python",
      "nbconvert_exporter": "python",
      "pygments_lexer": "ipython2",
      "version": "2.7.6"
    },
    "colab": {
      "provenance": []
    }
  },
  "nbformat": 4,
  "nbformat_minor": 5
}
{
  "cells": [
    {
      "metadata": {
        "id": "c722c9c1b66716c9"
      },
      "cell_type": "markdown",
      "source": [
        "Traitement des données pour vérifier s'il en manque\n",
        "\n"
      ],
      "id": "c722c9c1b66716c9"
    },
    {
      "cell_type": "code",
      "source": [
        "!pip install housing"
      ],
      "metadata": {
        "id": "7Nh7vH4mg5gf",
        "outputId": "34b7ffa4-f7a4-4ce3-ef95-846eb3ddc229",
        "colab": {
          "base_uri": "https://localhost:8080/"
        }
      },
      "id": "7Nh7vH4mg5gf",
      "execution_count": 2,
      "outputs": [
        {
          "output_type": "stream",
          "name": "stdout",
          "text": [
            "Collecting housing\n",
            "  Downloading housing-0.3-py3-none-any.whl.metadata (1.3 kB)\n",
            "Downloading housing-0.3-py3-none-any.whl (7.5 kB)\n",
            "Installing collected packages: housing\n",
            "Successfully installed housing-0.3\n"
          ]
        }
      ]
    },
    {
      "metadata": {
        "id": "18df02f844e9995"
      },
      "cell_type": "markdown",
      "source": [
        "Importation des librairies\n"
      ],
      "id": "18df02f844e9995"
    },
    {
      "cell_type": "code",
      "id": "initial_id",
      "metadata": {
        "collapsed": true,
        "ExecuteTime": {
          "end_time": "2025-01-21T15:36:57.892674Z",
          "start_time": "2025-01-21T15:36:57.887597Z"
        },
        "id": "initial_id"
      },
      "source": [
        "import housing\n",
        "import numpy as np\n",
        "import pandas as pd\n",
        "import matplotlib.pyplot as plt\n",
        "import seaborn as sns\n",
        "import warnings\n",
        "import tarfile\n",
        "import os\n",
        "import missingno as msno\n",
        "import seaborn as sns\n",
        "import matplotlib.pyplot as plt\n",
        "\n",
        "\n"
      ],
      "outputs": [],
      "execution_count": 3
    },
    {
      "metadata": {
        "id": "88897c435e63acb0"
      },
      "cell_type": "markdown",
      "source": [
        "Extraction du/des fichiers\n"
      ],
      "id": "88897c435e63acb0"
    },
    {
      "metadata": {
        "id": "ba9ac5494a407ffc"
      },
      "cell_type": "code",
      "outputs": [],
      "execution_count": null,
      "source": [],
      "id": "ba9ac5494a407ffc"
    },
    {
      "metadata": {
        "id": "9916a65a660b0aff"
      },
      "cell_type": "markdown",
      "source": [],
      "id": "9916a65a660b0aff"
    },
    {
      "metadata": {
        "ExecuteTime": {
          "end_time": "2025-01-21T16:07:42.971435Z",
          "start_time": "2025-01-21T16:07:42.874387Z"
        },
        "id": "b5f0163a5defa2a8",
        "outputId": "63c2d324-8354-49d5-e4f4-b61e0d20bdec",
        "colab": {
          "base_uri": "https://localhost:8080/"
        }
      },
      "cell_type": "code",
      "source": [
        "file_path_general = 'general_data.csv'\n",
        "file_path_employee ='employee_survey_data.csv'\n",
        "file_path_manager = 'manager_survey_data.csv'\n",
        "file_path_in = 'in_time.csv'\n",
        "file_path_out = 'out_time.csv'\n",
        "\n",
        "print(os.getcwd())\n",
        "\n",
        "directory= \"/content/Data/\"\n",
        "\n",
        "# Load the dataset\n",
        "general_data = pd.read_csv(directory + file_path_general)\n",
        "\n",
        "\n",
        "\n",
        "#general_data.info()\n",
        "\n",
        "#general_data.describe()\n",
        "\n",
        "#general_data.head()\n"
      ],
      "id": "b5f0163a5defa2a8",
      "outputs": [
        {
          "output_type": "stream",
          "name": "stdout",
          "text": [
            "/content\n"
          ]
        }
      ],
      "execution_count": 8
    },
    {
      "metadata": {
        "ExecuteTime": {
          "end_time": "2025-01-21T15:37:00.216779Z",
          "start_time": "2025-01-21T15:37:00.208778Z"
        },
        "id": "a43d07b304b49e89",
        "outputId": "f7115175-593a-4cb4-83e8-d10654acf87a"
      },
      "cell_type": "code",
      "source": [
        "general_data[\"JobSatisfaction\"].value_counts()"
      ],
      "id": "a43d07b304b49e89",
      "outputs": [
        {
          "data": {
            "text/plain": [
              "JobSatisfaction\n",
              "4.0    1367\n",
              "3.0    1323\n",
              "1.0     860\n",
              "2.0     840\n",
              "Name: count, dtype: int64"
            ]
          },
          "execution_count": 54,
          "metadata": {},
          "output_type": "execute_result"
        }
      ],
      "execution_count": null
    },
    {
      "metadata": {
        "id": "e0771a9f0bbd4f8e"
      },
      "cell_type": "markdown",
      "source": [],
      "id": "e0771a9f0bbd4f8e"
    },
    {
      "metadata": {
        "ExecuteTime": {
          "end_time": "2025-01-21T15:37:02.097050Z",
          "start_time": "2025-01-21T15:37:02.089635Z"
        },
        "id": "e8e66e8f96f87e39",
        "outputId": "5f3e7582-443f-41b9-d28d-f2b96b2a4e41"
      },
      "cell_type": "code",
      "source": [
        "\n",
        "null_value = general_data.isnull().sum()\n",
        "print(null_value)\n",
        "\n"
      ],
      "id": "e8e66e8f96f87e39",
      "outputs": [
        {
          "name": "stdout",
          "output_type": "stream",
          "text": [
            "EmployeeID                  0\n",
            "EnvironmentSatisfaction    25\n",
            "JobSatisfaction            20\n",
            "WorkLifeBalance            38\n",
            "dtype: int64\n"
          ]
        }
      ],
      "execution_count": null
    },
    {
      "metadata": {
        "ExecuteTime": {
          "end_time": "2025-01-21T15:37:27.351212Z",
          "start_time": "2025-01-21T15:37:27.347648Z"
        },
        "id": "24a5aeeb29fb64f7"
      },
      "cell_type": "code",
      "source": [
        "\n",
        "\n"
      ],
      "id": "24a5aeeb29fb64f7",
      "outputs": [],
      "execution_count": null
    },
    {
      "metadata": {
        "ExecuteTime": {
          "end_time": "2025-01-21T15:27:34.103415Z",
          "start_time": "2025-01-21T15:27:34.100415Z"
        },
        "id": "3856fd1e142c4e24"
      },
      "cell_type": "code",
      "source": [],
      "id": "3856fd1e142c4e24",
      "outputs": [],
      "execution_count": null
    }
  ],
  "metadata": {
    "kernelspec": {
      "display_name": "Python 3",
      "language": "python",
      "name": "python3"
    },
    "language_info": {
      "codemirror_mode": {
        "name": "ipython",
        "version": 2
      },
      "file_extension": ".py",
      "mimetype": "text/x-python",
      "name": "python",
      "nbconvert_exporter": "python",
      "pygments_lexer": "ipython2",
      "version": "2.7.6"
    },
    "colab": {
      "provenance": []
    }
  },
  "nbformat": 4,
  "nbformat_minor": 5
}
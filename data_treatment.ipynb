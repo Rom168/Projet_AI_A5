{
  "cells": [
    {
      "metadata": {
        "id": "c722c9c1b66716c9"
      },
      "cell_type": "markdown",
      "source": [
        "Traitement des données pour vérifier s'il en manque\n",
        "\n"
      ],
      "id": "c722c9c1b66716c9"
    },
    {
      "cell_type": "code",
      "source": [
        "!pip install housing"
      ],
      "metadata": {
        "colab": {
          "base_uri": "https://localhost:8080/"
        },
        "id": "7Nh7vH4mg5gf",
        "outputId": "8a2966c7-625b-4d21-ca95-3e731e9cfbb8"
      },
      "id": "7Nh7vH4mg5gf",
      "execution_count": null,
      "outputs": [
        {
          "output_type": "stream",
          "name": "stdout",
          "text": [
            "Requirement already satisfied: housing in /usr/local/lib/python3.11/dist-packages (0.3)\n"
          ]
        }
      ]
    },
    {
      "metadata": {
        "id": "18df02f844e9995"
      },
      "cell_type": "markdown",
      "source": [
        "Importation des librairies\n"
      ],
      "id": "18df02f844e9995"
    },
    {
      "cell_type": "code",
      "id": "initial_id",
      "metadata": {
        "collapsed": true,
        "ExecuteTime": {
          "end_time": "2025-01-21T15:36:57.892674Z",
          "start_time": "2025-01-21T15:36:57.887597Z"
        },
        "id": "initial_id"
      },
      "source": [
        "import housing\n",
        "import numpy as np\n",
        "import pandas as pd\n",
        "import matplotlib.pyplot as plt\n",
        "import seaborn as sns\n",
        "import warnings\n",
        "import tarfile\n",
        "import os\n",
        "import missingno as msno\n",
        "import seaborn as sns\n",
        "import matplotlib.pyplot as plt\n",
        "\n",
        "\n"
      ],
      "outputs": [],
      "execution_count": null
    },
    {
      "metadata": {
        "id": "88897c435e63acb0"
      },
      "cell_type": "markdown",
      "source": [
        "Extraction du/des fichiers\n"
      ],
      "id": "88897c435e63acb0"
    },
    {
      "metadata": {
        "id": "ba9ac5494a407ffc"
      },
      "cell_type": "code",
      "outputs": [],
      "execution_count": null,
      "source": [],
      "id": "ba9ac5494a407ffc"
    },
    {
      "metadata": {
        "id": "9916a65a660b0aff"
      },
      "cell_type": "markdown",
      "source": [],
      "id": "9916a65a660b0aff"
    },
    {
      "metadata": {
        "ExecuteTime": {
          "end_time": "2025-01-21T16:07:42.971435Z",
          "start_time": "2025-01-21T16:07:42.874387Z"
        },
        "colab": {
          "base_uri": "https://localhost:8080/"
        },
        "id": "b5f0163a5defa2a8",
        "outputId": "84db2836-cffe-4433-e93c-62df0effcedf"
      },
      "cell_type": "code",
      "source": [
        "file_path_general = 'general_data.csv'\n",
        "file_path_employee ='employee_survey_data.csv'\n",
        "file_path_manager = 'manager_survey_data.csv'\n",
        "file_path_in = 'in_time.csv'\n",
        "file_path_out = 'out_time.csv'\n",
        "\n",
        "\n",
        "\n",
        "directory= \"/content/Data/\"\n",
        "\n",
        "# Load the dataset\n",
        "general_data = pd.read_csv(directory + file_path_general)\n",
        "employee_data = pd.read_csv(directory + file_path_employee)\n",
        "managers_data = pd.read_csv(directory + file_path_manager)\n",
        "in_data = pd.read_csv(directory + file_path_in)\n",
        "out_data = pd.read_csv(directory + file_path_out)\n",
        "\n",
        "\n",
        "in_data.rename(columns={'Unnamed: 0': 'EmployeeID'}, inplace=True)\n",
        "out_data.rename(columns={'Unnamed: 0': 'EmployeeID'}, inplace=True)\n",
        "\n",
        "#general_data.info()\n",
        "\n",
        "#general_data.describe()\n",
        "\n",
        "\n",
        "general_data.head()\n",
        "\n"
      ],
      "id": "b5f0163a5defa2a8",
      "outputs": [
        {
          "output_type": "stream",
          "name": "stdout",
          "text": [
            "      Age Attrition     BusinessTravel              Department  \\\n",
            "0      51        No      Travel_Rarely                   Sales   \n",
            "1      31       Yes  Travel_Frequently  Research & Development   \n",
            "2      32        No  Travel_Frequently  Research & Development   \n",
            "3      38        No         Non-Travel  Research & Development   \n",
            "4      32        No      Travel_Rarely  Research & Development   \n",
            "...   ...       ...                ...                     ...   \n",
            "4405   42        No      Travel_Rarely  Research & Development   \n",
            "4406   29        No      Travel_Rarely  Research & Development   \n",
            "4407   25        No      Travel_Rarely  Research & Development   \n",
            "4408   42        No      Travel_Rarely                   Sales   \n",
            "4409   40        No      Travel_Rarely  Research & Development   \n",
            "\n",
            "      DistanceFromHome  Education EducationField  EmployeeCount  EmployeeID  \\\n",
            "0                    6          2  Life Sciences              1           1   \n",
            "1                   10          1  Life Sciences              1           2   \n",
            "2                   17          4          Other              1           3   \n",
            "3                    2          5  Life Sciences              1           4   \n",
            "4                   10          1        Medical              1           5   \n",
            "...                ...        ...            ...            ...         ...   \n",
            "4405                 5          4        Medical              1        4406   \n",
            "4406                 2          4        Medical              1        4407   \n",
            "4407                25          2  Life Sciences              1        4408   \n",
            "4408                18          2        Medical              1        4409   \n",
            "4409                28          3        Medical              1        4410   \n",
            "\n",
            "      Gender  ...  NumCompaniesWorked Over18 PercentSalaryHike  StandardHours  \\\n",
            "0     Female  ...                 1.0      Y                11              8   \n",
            "1     Female  ...                 0.0      Y                23              8   \n",
            "2       Male  ...                 1.0      Y                15              8   \n",
            "3       Male  ...                 3.0      Y                11              8   \n",
            "4       Male  ...                 4.0      Y                12              8   \n",
            "...      ...  ...                 ...    ...               ...            ...   \n",
            "4405  Female  ...                 3.0      Y                17              8   \n",
            "4406    Male  ...                 2.0      Y                15              8   \n",
            "4407    Male  ...                 0.0      Y                20              8   \n",
            "4408    Male  ...                 0.0      Y                14              8   \n",
            "4409    Male  ...                 0.0      Y                12              8   \n",
            "\n",
            "      StockOptionLevel TotalWorkingYears  TrainingTimesLastYear  \\\n",
            "0                    0               1.0                      6   \n",
            "1                    1               6.0                      3   \n",
            "2                    3               5.0                      2   \n",
            "3                    3              13.0                      5   \n",
            "4                    2               9.0                      2   \n",
            "...                ...               ...                    ...   \n",
            "4405                 1              10.0                      5   \n",
            "4406                 0              10.0                      2   \n",
            "4407                 0               5.0                      4   \n",
            "4408                 1              10.0                      2   \n",
            "4409                 0               NaN                      6   \n",
            "\n",
            "      YearsAtCompany  YearsSinceLastPromotion  YearsWithCurrManager  \n",
            "0                  1                        0                     0  \n",
            "1                  5                        1                     4  \n",
            "2                  5                        0                     3  \n",
            "3                  8                        7                     5  \n",
            "4                  6                        0                     4  \n",
            "...              ...                      ...                   ...  \n",
            "4405               3                        0                     2  \n",
            "4406               3                        0                     2  \n",
            "4407               4                        1                     2  \n",
            "4408               9                        7                     8  \n",
            "4409              21                        3                     9  \n",
            "\n",
            "[4410 rows x 24 columns]\n"
          ]
        }
      ],
      "execution_count": null
    },
    {
      "metadata": {
        "ExecuteTime": {
          "end_time": "2025-01-21T15:37:00.216779Z",
          "start_time": "2025-01-21T15:37:00.208778Z"
        },
        "colab": {
          "base_uri": "https://localhost:8080/",
          "height": 210
        },
        "id": "a43d07b304b49e89",
        "outputId": "becaaa8d-692a-4506-cc1d-4f189878041b"
      },
      "cell_type": "code",
      "source": [
        "employee_data.head()\n",
        "managers_data.head()\n",
        "in_data.head()\n",
        "out_data.head()"
      ],
      "id": "a43d07b304b49e89",
      "outputs": [
        {
          "output_type": "execute_result",
          "data": {
            "text/plain": [
              "BusinessTravel\n",
              "Travel_Rarely        3129\n",
              "Travel_Frequently     831\n",
              "Non-Travel            450\n",
              "Name: count, dtype: int64"
            ],
            "text/html": [
              "<div>\n",
              "<style scoped>\n",
              "    .dataframe tbody tr th:only-of-type {\n",
              "        vertical-align: middle;\n",
              "    }\n",
              "\n",
              "    .dataframe tbody tr th {\n",
              "        vertical-align: top;\n",
              "    }\n",
              "\n",
              "    .dataframe thead th {\n",
              "        text-align: right;\n",
              "    }\n",
              "</style>\n",
              "<table border=\"1\" class=\"dataframe\">\n",
              "  <thead>\n",
              "    <tr style=\"text-align: right;\">\n",
              "      <th></th>\n",
              "      <th>count</th>\n",
              "    </tr>\n",
              "    <tr>\n",
              "      <th>BusinessTravel</th>\n",
              "      <th></th>\n",
              "    </tr>\n",
              "  </thead>\n",
              "  <tbody>\n",
              "    <tr>\n",
              "      <th>Travel_Rarely</th>\n",
              "      <td>3129</td>\n",
              "    </tr>\n",
              "    <tr>\n",
              "      <th>Travel_Frequently</th>\n",
              "      <td>831</td>\n",
              "    </tr>\n",
              "    <tr>\n",
              "      <th>Non-Travel</th>\n",
              "      <td>450</td>\n",
              "    </tr>\n",
              "  </tbody>\n",
              "</table>\n",
              "</div><br><label><b>dtype:</b> int64</label>"
            ]
          },
          "metadata": {},
          "execution_count": 19
        }
      ],
      "execution_count": null
    },
    {
      "metadata": {
        "id": "e0771a9f0bbd4f8e"
      },
      "cell_type": "markdown",
      "source": [
        "Conversion In et Out\n"
      ],
      "id": "e0771a9f0bbd4f8e"
    },
    {
      "cell_type": "code",
      "source": [],
      "metadata": {
        "id": "My5FFYpZKzu_"
      },
      "id": "My5FFYpZKzu_",
      "execution_count": null,
      "outputs": []
    },
    {
      "cell_type": "markdown",
      "source": [
        "Fusion des dataframe par EmployeeID\n"
      ],
      "metadata": {
        "id": "bO0TGSjyK1EB"
      },
      "id": "bO0TGSjyK1EB"
    },
    {
      "cell_type": "code",
      "source": [
        "# Fusionner tous les DataFrames sur EmployeeID\n",
        "merged_data = general_data.merge(employee_data, on='EmployeeID', how='outer') \\\n",
        "    .merge(managers_data, on='EmployeeID', how='outer') \\\n",
        "    .merge(in_data, on='EmployeeID', how='outer') \\\n",
        "    .merge(out_data, on='EmployeeID', how='outer')\n",
        "\n",
        "\n",
        "merged_data.head()"
      ],
      "metadata": {
        "id": "_WU8tm-4K32s"
      },
      "id": "_WU8tm-4K32s",
      "execution_count": null,
      "outputs": []
    },
    {
      "cell_type": "markdown",
      "source": [],
      "metadata": {
        "id": "FlKRB8F8Kyk5"
      },
      "id": "FlKRB8F8Kyk5"
    },
    {
      "metadata": {
        "ExecuteTime": {
          "end_time": "2025-01-21T15:37:02.097050Z",
          "start_time": "2025-01-21T15:37:02.089635Z"
        },
        "colab": {
          "base_uri": "https://localhost:8080/"
        },
        "id": "e8e66e8f96f87e39",
        "outputId": "3a36d6b3-55f3-4d72-811e-e361836bd7c3"
      },
      "cell_type": "code",
      "source": [
        "\n",
        "\n",
        "null_value = merged_data.isnull().sum()\n",
        "null_value_manager = managers_data.isnull().sum()\n",
        "null_value_employee = employee_data.isnull().sum()\n",
        "null_value_in = in_data.isnull().sum()\n",
        "null_value_out = out_data.isnull().sum()\n",
        "\n",
        "print(null_value)\n"
      ],
      "id": "e8e66e8f96f87e39",
      "outputs": [
        {
          "output_type": "stream",
          "name": "stdout",
          "text": [
            "Age                         0\n",
            "Attrition                   0\n",
            "BusinessTravel              0\n",
            "Department                  0\n",
            "DistanceFromHome            0\n",
            "Education                   0\n",
            "EducationField              0\n",
            "EmployeeCount               0\n",
            "EmployeeID                  0\n",
            "Gender                      0\n",
            "JobLevel                    0\n",
            "JobRole                     0\n",
            "MaritalStatus               0\n",
            "MonthlyIncome               0\n",
            "NumCompaniesWorked         19\n",
            "Over18                      0\n",
            "PercentSalaryHike           0\n",
            "StandardHours               0\n",
            "StockOptionLevel            0\n",
            "TotalWorkingYears           9\n",
            "TrainingTimesLastYear       0\n",
            "YearsAtCompany              0\n",
            "YearsSinceLastPromotion     0\n",
            "YearsWithCurrManager        0\n",
            "dtype: int64\n"
          ]
        }
      ],
      "execution_count": null
    },
    {
      "cell_type": "markdown",
      "source": [
        "Remplissage des valeurs numériques manquantes par la valeure médianne\n"
      ],
      "metadata": {
        "id": "5KLNwGXDLHn8"
      },
      "id": "5KLNwGXDLHn8"
    },
    {
      "cell_type": "code",
      "source": [
        "import missingno as msno\n",
        "\n",
        "# Visualize missing data\n",
        "msno.matrix(merged_data)\n",
        "plt.show()\n",
        "\n",
        "# Impute missing values\n",
        "# For numerical columns, use median imputation\n",
        "numerical_columns = merged_data.select_dtypes(include=['float64', 'int64']).columns\n",
        "merged_data[numerical_columns] = merged_data[numerical_columns].fillna(merged_data[numerical_columns].median())\n"
      ],
      "metadata": {
        "id": "4Lrl-hOsLLvC"
      },
      "id": "4Lrl-hOsLLvC",
      "execution_count": null,
      "outputs": []
    },
    {
      "metadata": {
        "ExecuteTime": {
          "end_time": "2025-01-21T15:37:27.351212Z",
          "start_time": "2025-01-21T15:37:27.347648Z"
        },
        "id": "24a5aeeb29fb64f7",
        "colab": {
          "base_uri": "https://localhost:8080/",
          "height": 211
        },
        "outputId": "ee928f2b-5c0b-4fe7-d249-b8318d123dcc"
      },
      "cell_type": "code",
      "source": [
        "from sklearn.preprocessing import LabelEncoder, OrdinalEncoder\n",
        "\n",
        "le=LabelEncoder()\n",
        "ordinal=OrdinalEncoder()\n",
        "#suppression des ligne avec valeurs manquante ? a check\n",
        "general_data = general_data.dropna()\n",
        "\n",
        "#on utilise l'encoder pour n'avoir que des valeurs numériques dans nos données\n",
        "\n",
        "categorical_columns = [\"Attrition\", \"BusinessTravel\", \"Department\", \"EducationField\", \"Gender\", \"JobRole\", \"MaritalStatus\", \"Over18\"]\n",
        "\n",
        "# for col in column_to_encode:\n",
        "#     general_data[col]=le.fit_transform(general_data[col])\n",
        "general_data['Attrition'] = le.fit_transform(general_data['Attrition'])\n",
        "general_data[categorical_columns] = ordinal.fit_transform(general_data[categorical_columns])\n",
        "\n",
        "\n",
        "general_data"
      ],
      "id": "24a5aeeb29fb64f7",
      "outputs": [
        {
          "output_type": "error",
          "ename": "NameError",
          "evalue": "name 'general_data' is not defined",
          "traceback": [
            "\u001b[0;31m---------------------------------------------------------------------------\u001b[0m",
            "\u001b[0;31mNameError\u001b[0m                                 Traceback (most recent call last)",
            "\u001b[0;32m<ipython-input-4-a08a66d13ee8>\u001b[0m in \u001b[0;36m<cell line: 0>\u001b[0;34m()\u001b[0m\n\u001b[1;32m      4\u001b[0m \u001b[0mordinal\u001b[0m\u001b[0;34m=\u001b[0m\u001b[0mOrdinalEncoder\u001b[0m\u001b[0;34m(\u001b[0m\u001b[0;34m)\u001b[0m\u001b[0;34m\u001b[0m\u001b[0;34m\u001b[0m\u001b[0m\n\u001b[1;32m      5\u001b[0m \u001b[0;31m#suppression des ligne avec valeurs manquante ? a check\u001b[0m\u001b[0;34m\u001b[0m\u001b[0;34m\u001b[0m\u001b[0m\n\u001b[0;32m----> 6\u001b[0;31m \u001b[0mgeneral_data\u001b[0m \u001b[0;34m=\u001b[0m \u001b[0mgeneral_data\u001b[0m\u001b[0;34m.\u001b[0m\u001b[0mdropna\u001b[0m\u001b[0;34m(\u001b[0m\u001b[0;34m)\u001b[0m\u001b[0;34m\u001b[0m\u001b[0;34m\u001b[0m\u001b[0m\n\u001b[0m\u001b[1;32m      7\u001b[0m \u001b[0;34m\u001b[0m\u001b[0m\n\u001b[1;32m      8\u001b[0m \u001b[0;31m#on utilise l'encoder pour n'avoir que des valeurs numériques dans nos données\u001b[0m\u001b[0;34m\u001b[0m\u001b[0;34m\u001b[0m\u001b[0m\n",
            "\u001b[0;31mNameError\u001b[0m: name 'general_data' is not defined"
          ]
        }
      ],
      "execution_count": null
    },
    {
      "metadata": {
        "ExecuteTime": {
          "end_time": "2025-01-21T15:27:34.103415Z",
          "start_time": "2025-01-21T15:27:34.100415Z"
        },
        "id": "3856fd1e142c4e24"
      },
      "cell_type": "code",
      "source": [
        "import pandas as pd\n",
        "import numpy as np\n",
        "from sklearn.model_selection import train_test_split\n",
        "from sklearn.linear_model import LogisticRegression\n",
        "from sklearn.ensemble import RandomForestClassifier\n",
        "from sklearn.metrics import accuracy_score, classification_report\n",
        "\n",
        "# Sélectionner les features pertinentes\n",
        "features = [col for col in general_data.columns if col != 'Attrition' and col != 'EmployeeID']\n",
        "\n",
        "X = general_data[features]\n",
        "y = general_data['Attrition']\n",
        "\n",
        "# Diviser les données en ensembles d'entraînement et de test\n",
        "X_train, X_test, y_train, y_test = train_test_split(X, y, test_size=0.2, random_state=42)\n",
        "\n",
        "# Régression logistique\n",
        "log_reg = LogisticRegression(random_state=42, max_iter=5000)\n",
        "log_reg.fit(X_train, y_train)\n",
        "\n",
        "# Prédire et évaluer\n",
        "y_pred_log = log_reg.predict(X_test)\n",
        "print(\"Accuracy (Logistic Regression):\", accuracy_score(y_test, y_pred_log))\n",
        "print(classification_report(y_test, y_pred_log))\n",
        "\n",
        "# Importance des variables pour la régression logistique\n",
        "importance = pd.DataFrame({'feature': X.columns, 'importance': abs(log_reg.coef_[0])})\n",
        "importance = importance.sort_values('importance', ascending=False)\n",
        "print(\"Top 10 features (Logistic Regression):\")\n",
        "print(importance.head(10))\n",
        "\n",
        "\n"
      ],
      "id": "3856fd1e142c4e24",
      "outputs": [],
      "execution_count": null
    },
    {
      "cell_type": "code",
      "source": [
        "\n",
        "# Random Forest\n",
        "rf = RandomForestClassifier(n_estimators=100, random_state=42)\n",
        "rf.fit(X_train, y_train)\n",
        "\n",
        "# Prédire et évaluer\n",
        "y_pred_rf = rf.predict(X_test)\n",
        "print(\"\\nAccuracy (Random Forest):\", accuracy_score(y_test, y_pred_rf))\n",
        "print(classification_report(y_test, y_pred_rf))\n",
        "\n",
        "# Importance des variables pour Random Forest\n",
        "importance_rf = pd.DataFrame({'feature': X.columns, 'importance': rf.feature_importances_})\n",
        "importance_rf = importance_rf.sort_values('importance', ascending=False)\n",
        "print(\"\\nTop 10 features (Random Forest):\")\n",
        "print(importance_rf.head(10))"
      ],
      "metadata": {
        "id": "AaTgOBJE6_bF"
      },
      "id": "AaTgOBJE6_bF",
      "execution_count": null,
      "outputs": []
    },
    {
      "cell_type": "code",
      "source": [
        "from sklearn.metrics import accuracy_score, precision_score, recall_score, f1_score\n",
        "\n",
        "# Calculer les métriques pour les deux modèles\n",
        "metrics = ['Accuracy', 'Precision', 'Recall', 'F1-score']\n",
        "log_reg_scores = [\n",
        "    accuracy_score(y_test, y_pred_log),\n",
        "    precision_score(y_test, y_pred_log, average='weighted'),\n",
        "    recall_score(y_test, y_pred_log, average='weighted'),\n",
        "    f1_score(y_test, y_pred_log, average='weighted')\n",
        "]\n",
        "rf_scores = [\n",
        "    accuracy_score(y_test, y_pred_rf),\n",
        "    precision_score(y_test, y_pred_rf, average='weighted'),\n",
        "    recall_score(y_test, y_pred_rf, average='weighted'),\n",
        "    f1_score(y_test, y_pred_rf, average='weighted')\n",
        "]\n",
        "\n",
        "# Créer le graphique\n",
        "x = np.arange(len(metrics))\n",
        "width = 0.35\n",
        "\n",
        "fig, ax = plt.subplots(figsize=(12, 6))\n",
        "rects1 = ax.bar(x - width/2, log_reg_scores, width, label='Logistic Regression')\n",
        "rects2 = ax.bar(x + width/2, rf_scores, width, label='Random Forest')\n",
        "\n",
        "ax.set_ylabel('Scores')\n",
        "ax.set_title('Comparison of Logistic Regression and Random Forest')\n",
        "ax.set_xticks(x)\n",
        "ax.set_xticklabels(metrics)\n",
        "ax.legend()\n",
        "\n",
        "# Ajouter les valeurs sur les barres\n",
        "def autolabel(rects):\n",
        "    for rect in rects:\n",
        "        height = rect.get_height()\n",
        "        ax.annotate(f'{height:.2f}',\n",
        "                    xy=(rect.get_x() + rect.get_width() / 2, height),\n",
        "                    xytext=(0, 3),\n",
        "                    textcoords=\"offset points\",\n",
        "                    ha='center', va='bottom')\n",
        "\n",
        "autolabel(rects1)\n",
        "autolabel(rects2)\n",
        "\n",
        "plt.tight_layout()\n",
        "plt.show()"
      ],
      "metadata": {
        "id": "in2aIcvy7Dml"
      },
      "id": "in2aIcvy7Dml",
      "execution_count": null,
      "outputs": []
    }
  ],
  "metadata": {
    "kernelspec": {
      "display_name": "Python 3",
      "language": "python",
      "name": "python3"
    },
    "language_info": {
      "codemirror_mode": {
        "name": "ipython",
        "version": 2
      },
      "file_extension": ".py",
      "mimetype": "text/x-python",
      "name": "python",
      "nbconvert_exporter": "python",
      "pygments_lexer": "ipython2",
      "version": "2.7.6"
    },
    "colab": {
      "provenance": []
    }
  },
  "nbformat": 4,
  "nbformat_minor": 5
}